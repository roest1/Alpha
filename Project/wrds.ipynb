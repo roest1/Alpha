{
 "cells": [
  {
   "cell_type": "markdown",
   "metadata": {},
   "source": [
    "# WRDS API"
   ]
  },
  {
   "cell_type": "markdown",
   "metadata": {},
   "source": [
    "### Must follow : \n",
    "\n",
    "* Must also be on LSU VPN\n",
    "\n",
    "[Tutorial](https://wrds-www.wharton.upenn.edu/pages/support/programming-wrds/programming-python/python-wrds-cloud/)\n",
    "\n",
    "### Dr. Ogunc's login:\n",
    "\n",
    "kurtay130\n",
    "\n",
    "Pataraogunc2009\n",
    "\n",
    "### Riley's Login:\n",
    "\n",
    "Login:\n",
    "\n",
    "```go\n",
    "% ssh roest1@wrds-cloud.wharton.upenn.edu\n",
    "```\n",
    "\n",
    "Logout:\n",
    "\n",
    "```go\n",
    "% logout\n",
    "```\n",
    "\n",
    "\n",
    "roest1\n",
    "\n",
    "zQu4#3!qxYXw6pdgk6jE"
   ]
  },
  {
   "cell_type": "code",
   "execution_count": 1,
   "metadata": {},
   "outputs": [],
   "source": [
    "import wrds\n",
    "\n",
    "db = wrds.Connection()\n",
    "db.raw_sql('SELECT date, dji FROM djones.djdaily')"
   ]
  },
  {
   "cell_type": "code",
   "execution_count": null,
   "metadata": {},
   "outputs": [],
   "source": []
  }
 ],
 "metadata": {
  "kernelspec": {
   "display_name": "stockPredictor",
   "language": "python",
   "name": "python3"
  },
  "language_info": {
   "codemirror_mode": {
    "name": "ipython",
    "version": 3
   },
   "file_extension": ".py",
   "mimetype": "text/x-python",
   "name": "python",
   "nbconvert_exporter": "python",
   "pygments_lexer": "ipython3",
   "version": "3.10.10"
  }
 },
 "nbformat": 4,
 "nbformat_minor": 2
}
