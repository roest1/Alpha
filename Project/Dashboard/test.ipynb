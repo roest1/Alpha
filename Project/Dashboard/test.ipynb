{
 "cells": [
  {
   "cell_type": "markdown",
   "metadata": {},
   "source": [
    "# Imports"
   ]
  },
  {
   "cell_type": "code",
   "execution_count": 13,
   "metadata": {},
   "outputs": [],
   "source": [
    "import vizro.plotly.express as px\n",
    "from vizro import Vizro\n",
    "import vizro.models as vm"
   ]
  },
  {
   "cell_type": "code",
   "execution_count": 18,
   "metadata": {},
   "outputs": [
    {
     "data": {
      "text/html": [
       "\n",
       "        <iframe\n",
       "            width=\"100%\"\n",
       "            height=\"650\"\n",
       "            src=\"http://127.0.0.1:8050/\"\n",
       "            frameborder=\"0\"\n",
       "            allowfullscreen\n",
       "            \n",
       "        ></iframe>\n",
       "        "
      ],
      "text/plain": [
       "<IPython.lib.display.IFrame at 0x17f4225f0>"
      ]
     },
     "metadata": {},
     "output_type": "display_data"
    }
   ],
   "source": [
    "df = px.data.iris()\n",
    "\n",
    "page = vm.Page(\n",
    "    title=\"My first dashboard\",\n",
    "    components=[\n",
    "        vm.Graph(id=\"scatter_chart\", figure=px.scatter(df, x=\"sepal_length\", y=\"petal_width\", color=\"species\")),\n",
    "        vm.Graph(id=\"hist_chart\", figure=px.histogram(df, x=\"sepal_width\", color=\"species\")),\n",
    "    ],\n",
    "    controls=[\n",
    "        vm.Filter(column=\"species\", selector=vm.Dropdown(value=[\"ALL\"])),\n",
    "    ],\n",
    ")\n",
    "\n",
    "dashboard = vm.Dashboard(pages=[page])\n",
    "\n",
    "Vizro().build(dashboard).run()"
   ]
  },
  {
   "cell_type": "code",
   "execution_count": 23,
   "metadata": {},
   "outputs": [],
   "source": [
    "Vizro._reset()"
   ]
  },
  {
   "cell_type": "code",
   "execution_count": 21,
   "metadata": {},
   "outputs": [
    {
     "data": {
      "text/html": [
       "\n",
       "        <iframe\n",
       "            width=\"100%\"\n",
       "            height=\"650\"\n",
       "            src=\"http://127.0.0.1:8050/\"\n",
       "            frameborder=\"0\"\n",
       "            allowfullscreen\n",
       "            \n",
       "        ></iframe>\n",
       "        "
      ],
      "text/plain": [
       "<IPython.lib.display.IFrame at 0x17f5519c0>"
      ]
     },
     "metadata": {},
     "output_type": "display_data"
    }
   ],
   "source": [
    "df = px.data.gapminder()\n",
    "gapminder_data = (\n",
    "        df.groupby(by=[\"continent\", \"year\"]).\n",
    "            agg({\"lifeExp\": \"mean\", \"pop\": \"sum\", \"gdpPercap\": \"mean\"}).reset_index()\n",
    "    )\n",
    "\n",
    "first_page = vm.Page(\n",
    "    title=\"First Page\",\n",
    "    components=[\n",
    "        vm.Graph(\n",
    "            id=\"box_cont\",\n",
    "            figure=px.box(gapminder_data, x=\"continent\", y=\"lifeExp\", color=\"continent\",\n",
    "                            labels={\"lifeExp\": \"Life Expectancy\", \"continent\":\"Continent\"}),\n",
    "        ),\n",
    "    ],\n",
    ")\n",
    "\n",
    "dashboard = vm.Dashboard(pages=[first_page])\n",
    "Vizro().build(dashboard).run()\n"
   ]
  },
  {
   "cell_type": "code",
   "execution_count": null,
   "metadata": {},
   "outputs": [],
   "source": []
  },
  {
   "cell_type": "code",
   "execution_count": 24,
   "metadata": {},
   "outputs": [
    {
     "name": "stderr",
     "output_type": "stream",
     "text": [
      "ERROR:__main__:Exception on / [GET]\n",
      "Traceback (most recent call last):\n",
      "  File \"/Users/rileyoest/anaconda3/envs/stockPredictor/lib/python3.10/site-packages/flask/app.py\", line 2525, in wsgi_app\n",
      "    response = self.full_dispatch_request()\n",
      "  File \"/Users/rileyoest/anaconda3/envs/stockPredictor/lib/python3.10/site-packages/flask/app.py\", line 1822, in full_dispatch_request\n",
      "    rv = self.handle_user_exception(e)\n",
      "  File \"/Users/rileyoest/anaconda3/envs/stockPredictor/lib/python3.10/site-packages/flask/app.py\", line 1820, in full_dispatch_request\n",
      "    rv = self.dispatch_request()\n",
      "  File \"/Users/rileyoest/anaconda3/envs/stockPredictor/lib/python3.10/site-packages/flask/app.py\", line 1796, in dispatch_request\n",
      "    return self.ensure_sync(self.view_functions[rule.endpoint])(**view_args)\n",
      "  File \"/Users/rileyoest/anaconda3/envs/stockPredictor/lib/python3.10/site-packages/dash/dash.py\", line 983, in index\n",
      "    scripts = self._generate_scripts_html()\n",
      "  File \"/Users/rileyoest/anaconda3/envs/stockPredictor/lib/python3.10/site-packages/dash/dash.py\", line 884, in _generate_scripts_html\n",
      "    self._collect_and_register_resources(\n",
      "  File \"/Users/rileyoest/anaconda3/envs/stockPredictor/lib/python3.10/site-packages/dash/dash.py\", line 831, in _collect_and_register_resources\n",
      "    _relative_url_path(\n",
      "  File \"/Users/rileyoest/anaconda3/envs/stockPredictor/lib/python3.10/site-packages/dash/dash.py\", line 813, in _relative_url_path\n",
      "    return f\"{self.config.requests_pathname_prefix}_dash-component-suites/{namespace}/{fingerprint}\"\n",
      "  File \"/Users/rileyoest/anaconda3/envs/stockPredictor/lib/python3.10/site-packages/dash/_utils.py\", line 90, in __getattr__\n",
      "    raise AttributeError(key)\n",
      "AttributeError: requests_pathname_prefix\n",
      "ERROR:__main__:Exception on /favicon.ico [GET]\n",
      "Traceback (most recent call last):\n",
      "  File \"/Users/rileyoest/anaconda3/envs/stockPredictor/lib/python3.10/site-packages/flask/app.py\", line 2525, in wsgi_app\n",
      "    response = self.full_dispatch_request()\n",
      "  File \"/Users/rileyoest/anaconda3/envs/stockPredictor/lib/python3.10/site-packages/flask/app.py\", line 1822, in full_dispatch_request\n",
      "    rv = self.handle_user_exception(e)\n",
      "  File \"/Users/rileyoest/anaconda3/envs/stockPredictor/lib/python3.10/site-packages/flask/app.py\", line 1820, in full_dispatch_request\n",
      "    rv = self.dispatch_request()\n",
      "  File \"/Users/rileyoest/anaconda3/envs/stockPredictor/lib/python3.10/site-packages/flask/app.py\", line 1796, in dispatch_request\n",
      "    return self.ensure_sync(self.view_functions[rule.endpoint])(**view_args)\n",
      "  File \"/Users/rileyoest/anaconda3/envs/stockPredictor/lib/python3.10/site-packages/dash/dash.py\", line 983, in index\n",
      "    scripts = self._generate_scripts_html()\n",
      "  File \"/Users/rileyoest/anaconda3/envs/stockPredictor/lib/python3.10/site-packages/dash/dash.py\", line 884, in _generate_scripts_html\n",
      "    self._collect_and_register_resources(\n",
      "  File \"/Users/rileyoest/anaconda3/envs/stockPredictor/lib/python3.10/site-packages/dash/dash.py\", line 831, in _collect_and_register_resources\n",
      "    _relative_url_path(\n",
      "  File \"/Users/rileyoest/anaconda3/envs/stockPredictor/lib/python3.10/site-packages/dash/dash.py\", line 813, in _relative_url_path\n",
      "    return f\"{self.config.requests_pathname_prefix}_dash-component-suites/{namespace}/{fingerprint}\"\n",
      "  File \"/Users/rileyoest/anaconda3/envs/stockPredictor/lib/python3.10/site-packages/dash/_utils.py\", line 90, in __getattr__\n",
      "    raise AttributeError(key)\n",
      "AttributeError: requests_pathname_prefix\n"
     ]
    }
   ],
   "source": [
    "Vizro._reset()"
   ]
  },
  {
   "cell_type": "code",
   "execution_count": null,
   "metadata": {},
   "outputs": [],
   "source": []
  }
 ],
 "metadata": {
  "kernelspec": {
   "display_name": "stockPredictor",
   "language": "python",
   "name": "python3"
  },
  "language_info": {
   "codemirror_mode": {
    "name": "ipython",
    "version": 3
   },
   "file_extension": ".py",
   "mimetype": "text/x-python",
   "name": "python",
   "nbconvert_exporter": "python",
   "pygments_lexer": "ipython3",
   "version": "3.1.0"
  }
 },
 "nbformat": 4,
 "nbformat_minor": 2
}
