{
 "cells": [
  {
   "cell_type": "code",
   "execution_count": 1,
   "metadata": {},
   "outputs": [
    {
     "data": {
      "text/html": [
       "<div>\n",
       "<style scoped>\n",
       "    .dataframe tbody tr th:only-of-type {\n",
       "        vertical-align: middle;\n",
       "    }\n",
       "\n",
       "    .dataframe tbody tr th {\n",
       "        vertical-align: top;\n",
       "    }\n",
       "\n",
       "    .dataframe thead th {\n",
       "        text-align: right;\n",
       "    }\n",
       "</style>\n",
       "<table border=\"1\" class=\"dataframe\">\n",
       "  <thead>\n",
       "    <tr style=\"text-align: right;\">\n",
       "      <th></th>\n",
       "      <th>Unnamed: 0</th>\n",
       "      <th>CAGR</th>\n",
       "      <th>portfolio return</th>\n",
       "      <th>benchmark return</th>\n",
       "      <th>sharpe ratio</th>\n",
       "      <th>maximum drawdown</th>\n",
       "      <th>calmar ratio</th>\n",
       "      <th>omega ratio</th>\n",
       "      <th>sortino ratio</th>\n",
       "      <th>numbers of longs</th>\n",
       "      <th>numbers of shorts</th>\n",
       "      <th>numbers of trades</th>\n",
       "      <th>total length of trades</th>\n",
       "      <th>average length of trades</th>\n",
       "      <th>profit per trade</th>\n",
       "    </tr>\n",
       "  </thead>\n",
       "  <tbody>\n",
       "    <tr>\n",
       "      <th>0</th>\n",
       "      <td>0</td>\n",
       "      <td>0.000118</td>\n",
       "      <td>0.08905</td>\n",
       "      <td>0.30518</td>\n",
       "      <td>-0.050258</td>\n",
       "      <td>-0.054973</td>\n",
       "      <td>-0.00214</td>\n",
       "      <td>1.338695</td>\n",
       "      <td>-0.052643</td>\n",
       "      <td>61</td>\n",
       "      <td>32</td>\n",
       "      <td>93</td>\n",
       "      <td>220</td>\n",
       "      <td>2.365591</td>\n",
       "      <td>9.575268</td>\n",
       "    </tr>\n",
       "  </tbody>\n",
       "</table>\n",
       "</div>"
      ],
      "text/plain": [
       "   Unnamed: 0      CAGR  portfolio return  benchmark return  sharpe ratio   \n",
       "0           0  0.000118           0.08905           0.30518     -0.050258  \\\n",
       "\n",
       "   maximum drawdown  calmar ratio  omega ratio  sortino ratio   \n",
       "0         -0.054973      -0.00214     1.338695      -0.052643  \\\n",
       "\n",
       "   numbers of longs  numbers of shorts  numbers of trades   \n",
       "0                61                 32                 93  \\\n",
       "\n",
       "   total length of trades  average length of trades  profit per trade  \n",
       "0                     220                  2.365591          9.575268  "
      ]
     },
     "execution_count": 1,
     "metadata": {},
     "output_type": "execute_result"
    }
   ],
   "source": [
    "import pandas as pd\n",
    "df = pd.read_csv(\"/Users/rileyoest/VS_Code/AlphaScratch/Project/Tools/TechnicalIndicators/Heikin_Ashi_Candlestick/stats.csv\")\n",
    "df"
   ]
  },
  {
   "cell_type": "code",
   "execution_count": null,
   "metadata": {},
   "outputs": [],
   "source": []
  }
 ],
 "metadata": {
  "kernelspec": {
   "display_name": "stockPredictor",
   "language": "python",
   "name": "python3"
  },
  "language_info": {
   "codemirror_mode": {
    "name": "ipython",
    "version": 3
   },
   "file_extension": ".py",
   "mimetype": "text/x-python",
   "name": "python",
   "nbconvert_exporter": "python",
   "pygments_lexer": "ipython3",
   "version": "3.10.10"
  }
 },
 "nbformat": 4,
 "nbformat_minor": 2
}
